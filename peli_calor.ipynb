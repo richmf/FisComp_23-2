{
 "cells": [
  {
   "cell_type": "code",
   "execution_count": null,
   "id": "a600f788",
   "metadata": {},
   "outputs": [
    {
     "name": "stdout",
     "output_type": "stream",
     "text": [
      "Voy a evolucionar con valor r= 0.67\n"
     ]
    }
   ],
   "source": [
    "from pylab import *\n",
    "from matplotlib import animation,rc\n",
    "\n",
    "def Mat_A_inv(Nx,r):\n",
    "    A = zeros((Nx,Nx))\n",
    "    dd , m_r = 2*(1+r) , -r\n",
    "    for i in range(Nx-1):\n",
    "        A[i,i] = dd\n",
    "        A[i+1,i] = m_r\n",
    "        A[i,i+1] = m_r\n",
    "    A[-1,-1] = dd\n",
    "    A_inv = inv(A)\n",
    "    return A_inv\n",
    "\n",
    "def Mat_B(Nx,r):\n",
    "    B = zeros((Nx,Nx))\n",
    "    dd = 2*(1-r)\n",
    "    for i in range(Nx-1):\n",
    "        B[i,i] = dd\n",
    "        B[i+1,i] = r\n",
    "        B[i,i+1] = r\n",
    "    B[-1,-1] = dd\n",
    "    return B\n",
    "\n",
    "def Crank_Nicolson(Psi0,x,t,D=1):\n",
    "    dt , dx = t[1]-t[0] , x[1]-x[0]\n",
    "    Psi_total = zeros((len(t),len(Psi0)))\n",
    "    Psi_total[0,:] = Psi0 \n",
    "    r = D*dt/(dx**2)\n",
    "    if r < 1:\n",
    "        print('Voy a evolucionar con valor r= %2.2f' %r)\n",
    "        Nx = len(Psi0[1:-1])\n",
    "        Ainv , B = Mat_A_inv(Nx,r) , Mat_B(Nx,r)\n",
    "        Ainv_B = dot(Ainv,B)\n",
    "        for i in range(len(t)-1):\n",
    "            Psi_total[i+1,1:-1] = dot(Ainv_B,Psi_total[i,1:-1])\n",
    "    else:\n",
    "        print('Valor de r= %2.2f no convergente' %r)\n",
    "    return Psi_total\n",
    "\n",
    "x = linspace(0,1,30)\n",
    "t = linspace(0,0.4,500)\n",
    "Psi0 = -x*(x-1)*sin(x)\n",
    "Psi_total = Crank_Nicolson(Psi0,x,t)\n",
    "\n",
    "\n",
    "fig = figure()\n",
    "ejes = axes( xlim=(0,1) , ylim=(0,0.15) )\n",
    "psi_frame, = ejes.plot([],[],c='tab:purple')\n",
    "\n",
    "def animar(i):\n",
    "    psi_frame.set_data(x,Psi_total[i,:])\n",
    "    return psi_frame,\n",
    "\n",
    "pelicula = animation.FuncAnimation(fig,animar,frames=len(t),blit=True)\n",
    "pelicula.save('calor1.mp4')\n"
   ]
  },
  {
   "cell_type": "code",
   "execution_count": null,
   "id": "89fbeffd",
   "metadata": {},
   "outputs": [],
   "source": []
  }
 ],
 "metadata": {
  "kernelspec": {
   "display_name": "Python 3 (ipykernel)",
   "language": "python",
   "name": "python3"
  },
  "language_info": {
   "codemirror_mode": {
    "name": "ipython",
    "version": 3
   },
   "file_extension": ".py",
   "mimetype": "text/x-python",
   "name": "python",
   "nbconvert_exporter": "python",
   "pygments_lexer": "ipython3",
   "version": "3.9.12"
  }
 },
 "nbformat": 4,
 "nbformat_minor": 5
}
