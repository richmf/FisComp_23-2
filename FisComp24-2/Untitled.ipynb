{
 "cells": [
  {
   "cell_type": "code",
   "execution_count": 15,
   "id": "67948bc4-2945-4660-94c1-9708b3652394",
   "metadata": {},
   "outputs": [],
   "source": [
    "from pylab import *"
   ]
  },
  {
   "cell_type": "markdown",
   "id": "8377523e-45e9-4e3d-a8e9-f63a74a724db",
   "metadata": {},
   "source": [
    "La expresión para la integrar en el punto $x_i$ con intervalo simétrico $\\pm h$ es:\n",
    "\n",
    "$$\n",
    "\\int _{x_i -h} ^{x_i +h} f(x) dx= \\left( \\frac{f_{i-1} +4f_{i} +f_{i+1} }{3}\\right)h\n",
    "$$"
   ]
  },
  {
   "cell_type": "markdown",
   "id": "a0592d17-cc7c-4ee7-b438-dbe2f7f7003b",
   "metadata": {},
   "source": [
    "La expresión para la integrar en el punto $x_i$ con intervalo simétrico $\\pm h$ es:\n",
    "\n",
    "$$\n",
    "\\int _{x_i -h} ^{x_i +h} f(x) dx= \\left( \\frac{f_{i-1} +4f_{i} +f_{i+1} }{3}\\right)h\n",
    "$$\n",
    "\n",
    "En caso de un intervalo par, hay que sumar:\n",
    "\n",
    "$$\n",
    "\\int _{x_0} ^{x_1} f(x) dx= \\left( \\frac{23 f_0 + 26 f_1 - 4 f_2 +6 f_3 - 3 f_4 }{48} \\right)h\n",
    "$$"
   ]
  },
  {
   "cell_type": "code",
   "execution_count": 69,
   "id": "4b3d5b4e-f479-47fa-95ca-26168fa7cb70",
   "metadata": {},
   "outputs": [],
   "source": [
    "def integrar(x,y):\n",
    "    N , I , h = len(x) , 0 , x[1]-x[0]\n",
    "    if N%2 == 0: # par, ojo sumar pedacito\n",
    "        inicial = 2\n",
    "        I += ( 23*y[0] +26*y[1] -4*y[2] +6*y[3] -3*y[4] )/16\n",
    "    else:\n",
    "        inicial = 1 #impar\n",
    "    for i in range(inicial,N,2):\n",
    "        I += y[i-1] + 4*y[i] + y[i+1]\n",
    "    return I*h/3"
   ]
  },
  {
   "cell_type": "code",
   "execution_count": 70,
   "id": "77d9d36e",
   "metadata": {},
   "outputs": [
    {
     "data": {
      "text/plain": [
       "2.000002983102433"
      ]
     },
     "execution_count": 70,
     "metadata": {},
     "output_type": "execute_result"
    }
   ],
   "source": [
    "x = linspace(0,pi)\n",
    "y = sin(x)\n",
    "integrar(x,y)"
   ]
  },
  {
   "cell_type": "code",
   "execution_count": 71,
   "id": "694d03af",
   "metadata": {},
   "outputs": [
    {
     "data": {
      "image/png": "[encoded data removed]",
      "text/plain": [
       "<Figure size 432x288 with 1 Axes>"
      ]
     },
     "metadata": {
      "needs_background": "light"
     },
     "output_type": "display_data"
    }
   ],
   "source": [
    "particiones = arange(5,1000)\n",
    "resultados = zeros(len(particiones))\n",
    "for i in range(len(particiones)):\n",
    "    x = linspace(0,pi,particiones[i])\n",
    "    y = sin(x)\n",
    "    #print(integrar(x,y))\n",
    "    resultados[i] = integrar(x,y)\n",
    "#plot(particiones,resultados)\n",
    "semilogx(particiones,resultados)\n",
    "show()"
   ]
  },
  {
   "cell_type": "code",
   "execution_count": 36,
   "id": "2cf9bb6b",
   "metadata": {},
   "outputs": [],
   "source": [
    "?arange"
   ]
  }
 ],
 "metadata": {
  "kernelspec": {
   "display_name": "Python 3 (ipykernel)",
   "language": "python",
   "name": "python3"
  },
  "language_info": {
   "codemirror_mode": {
    "name": "ipython",
    "version": 3
   },
   "file_extension": ".py",
   "mimetype": "text/x-python",
   "name": "python",
   "nbconvert_exporter": "python",
   "pygments_lexer": "ipython3",
   "version": "3.9.12"
  }
 },
 "nbformat": 4,
 "nbformat_minor": 5
}
