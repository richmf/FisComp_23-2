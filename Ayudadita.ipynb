{
 "cells": [
  {
   "cell_type": "code",
   "execution_count": 1,
   "id": "d61442b4",
   "metadata": {},
   "outputs": [],
   "source": [
    "from pylab import *"
   ]
  },
  {
   "cell_type": "code",
   "execution_count": 2,
   "id": "d397a4d0",
   "metadata": {},
   "outputs": [],
   "source": [
    "def Pot_van_der_waals(x):\n",
    "    return -2/x**6 + 1/x**12"
   ]
  },
  {
   "cell_type": "code",
   "execution_count": 5,
   "id": "851e2006",
   "metadata": {},
   "outputs": [],
   "source": [
    "x = linspace(0.5,5,200)\n",
    "y = Pot_van_der_waals(x)"
   ]
  },
  {
   "cell_type": "code",
   "execution_count": 8,
   "id": "7f799620",
   "metadata": {},
   "outputs": [
    {
     "data": {
      "text/plain": [
       "-0.9997686911068151"
      ]
     },
     "execution_count": 8,
     "metadata": {},
     "output_type": "execute_result"
    }
   ],
   "source": [
    "y.min()"
   ]
  },
  {
   "cell_type": "code",
   "execution_count": 9,
   "id": "26631267",
   "metadata": {},
   "outputs": [
    {
     "data": {
      "image/png": "[encoded data removed]",
      "text/plain": [
       "<Figure size 432x288 with 1 Axes>"
      ]
     },
     "metadata": {
      "needs_background": "light"
     },
     "output_type": "display_data"
    }
   ],
   "source": [
    "plot(x,y)\n",
    "ylim([-1,1])\n",
    "show()"
   ]
  },
  {
   "cell_type": "code",
   "execution_count": 71,
   "id": "52034ded",
   "metadata": {},
   "outputs": [],
   "source": [
    "def Rich_primitivo(x,y):\n",
    "    N , h = int((len(x)-1)/2)+2 , x[1]-x[0]\n",
    "    x_bar , y_bar = zeros(N) , zeros(N)\n",
    "    x_bar[0] , x_bar[1] = x[0] , x[1]\n",
    "    y_bar[1] = (251/720)*y[0] + (323/360)*y[1] + (-11/30)*y[2] + (53/360)*y[3] + (-19/720)*y[4]\n",
    "    for i  in range(N-3):\n",
    "        x_bar[i+2] = x[2*i+3]\n",
    "        y_bar[i+2] = y_bar[i+1] + (-y[2*i] + 34*y[2*i+1] + 114*y[2*i+2] + 34*y[2*i+3] - y[2*i+4])/90\n",
    "    x_bar[-1] = x[-1]\n",
    "    \n",
    "    #for i in range(N-1):\n",
    "    #    y_bar[i+1] = \n",
    "    return x_bar , y_bar*h"
   ]
  },
  {
   "cell_type": "code",
   "execution_count": 78,
   "id": "67b30145",
   "metadata": {},
   "outputs": [
    {
     "data": {
      "text/plain": [
       "(array([0.        , 0.22439948, 0.44879895, 0.67319843, 0.8975979 ,\n",
       "        1.12199738, 1.34639685, 1.57079633, 1.7951958 , 2.01959528,\n",
       "        2.24399475, 2.46839423, 2.6927937 , 2.91719318, 3.14159265]),\n",
       " array([0.        , 0.22439948, 0.67319843, 1.12199738, 1.57079633,\n",
       "        2.01959528, 2.46839423, 2.91719318, 3.14159265]),\n",
       " array([0.        , 0.02506989, 0.21816634, 0.56611411, 0.99999788,\n",
       "        1.43388166, 1.78182943, 1.97492588, 0.        ]))"
      ]
     },
     "execution_count": 78,
     "metadata": {},
     "output_type": "execute_result"
    }
   ],
   "source": [
    "x = linspace(0,pi,15)\n",
    "y = sin(x)\n",
    "y_int = -cos(x)\n",
    "x_prim , y_prim = Rich_primitivo(x,y)\n",
    "x , x_prim ,y_prim"
   ]
  },
  {
   "cell_type": "code",
   "execution_count": null,
   "id": "25b4b144",
   "metadata": {},
   "outputs": [],
   "source": []
  },
  {
   "cell_type": "code",
   "execution_count": 82,
   "id": "8571745b",
   "metadata": {},
   "outputs": [
    {
     "data": {
      "image/png": "[encoded data removed]",
      "text/plain": [
       "<Figure size 432x288 with 1 Axes>"
      ]
     },
     "metadata": {
      "needs_background": "light"
     },
     "output_type": "display_data"
    }
   ],
   "source": [
    "plot(x,y_int,'o')\n",
    "plot(x_prim,y_prim-1,'x')\n",
    "show()"
   ]
  },
  {
   "cell_type": "code",
   "execution_count": null,
   "id": "6ba7903a",
   "metadata": {},
   "outputs": [],
   "source": []
  }
 ],
 "metadata": {
  "kernelspec": {
   "display_name": "Python 3 (ipykernel)",
   "language": "python",
   "name": "python3"
  },
  "language_info": {
   "codemirror_mode": {
    "name": "ipython",
    "version": 3
   },
   "file_extension": ".py",
   "mimetype": "text/x-python",
   "name": "python",
   "nbconvert_exporter": "python",
   "pygments_lexer": "ipython3",
   "version": "3.9.12"
  }
 },
 "nbformat": 4,
 "nbformat_minor": 5
}
