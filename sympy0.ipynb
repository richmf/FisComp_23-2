{
 "cells": [
  {
   "cell_type": "code",
   "execution_count": 1,
   "id": "c5f093be-6a84-44dd-a088-8d1e9e9d6d1d",
   "metadata": {},
   "outputs": [],
   "source": [
    "from sympy import *"
   ]
  },
  {
   "cell_type": "markdown",
   "id": "608d7f8c-ca8b-4bc0-8195-bc1f0035ab66",
   "metadata": {},
   "source": [
    "$f_i$"
   ]
  },
  {
   "cell_type": "code",
   "execution_count": 3,
   "id": "a9d65172-0e18-4abe-8f59-9ee3c1d771b8",
   "metadata": {},
   "outputs": [
    {
     "data": {
      "text/latex": [
       "$\\displaystyle \\frac{251}{720}$"
      ],
      "text/plain": [
       "251/720"
      ]
     },
     "execution_count": 3,
     "metadata": {},
     "output_type": "execute_result"
    }
   ],
   "source": [
    "1-Rational(25,24)+Rational(35,72)-Rational(5,48)+Rational(1,120)"
   ]
  },
  {
   "cell_type": "markdown",
   "id": "f5c0a697-6150-4651-a084-80229a99e2ae",
   "metadata": {},
   "source": [
    "$f_{i+1}$"
   ]
  },
  {
   "cell_type": "code",
   "execution_count": 5,
   "id": "8de157f4-f8bf-4cb0-9cfb-d304376ec618",
   "metadata": {},
   "outputs": [
    {
     "data": {
      "text/latex": [
       "$\\displaystyle \\frac{323}{360}$"
      ],
      "text/plain": [
       "323/360"
      ]
     },
     "execution_count": 5,
     "metadata": {},
     "output_type": "execute_result"
    }
   ],
   "source": [
    "2-Rational(104,72)+Rational(9,24)-Rational(4,120)"
   ]
  },
  {
   "cell_type": "markdown",
   "id": "9742f97f-d664-46ee-b459-21a8d88d22b3",
   "metadata": {},
   "source": [
    "$f_{i+2}$"
   ]
  },
  {
   "cell_type": "code",
   "execution_count": 6,
   "id": "dd3ebbc1-f00a-4d9a-903c-ebda5d1738f3",
   "metadata": {},
   "outputs": [
    {
     "data": {
      "text/latex": [
       "$\\displaystyle - \\frac{11}{30}$"
      ],
      "text/plain": [
       "-11/30"
      ]
     },
     "execution_count": 6,
     "metadata": {},
     "output_type": "execute_result"
    }
   ],
   "source": [
    "-Rational(3,2)+Rational(114,72)-Rational(12,24)+Rational(6,120)"
   ]
  },
  {
   "cell_type": "markdown",
   "id": "b538c8b6-5fe0-4c7c-bdd8-6e09ac152f40",
   "metadata": {},
   "source": [
    "$f_{i+3}$"
   ]
  },
  {
   "cell_type": "code",
   "execution_count": 7,
   "id": "1ee6277a-bc2f-4e96-90eb-d364292cd00b",
   "metadata": {},
   "outputs": [
    {
     "data": {
      "text/latex": [
       "$\\displaystyle \\frac{53}{360}$"
      ],
      "text/plain": [
       "53/360"
      ]
     },
     "execution_count": 7,
     "metadata": {},
     "output_type": "execute_result"
    }
   ],
   "source": [
    "Rational(4,6)-Rational(56,72)+Rational(7,24)-Rational(4,120)"
   ]
  },
  {
   "cell_type": "markdown",
   "id": "71a23c5b-c829-4c34-ae95-1544d45413e6",
   "metadata": {},
   "source": [
    "$f_{i+4}$"
   ]
  },
  {
   "cell_type": "code",
   "execution_count": 8,
   "id": "eaee7e66-b8c8-4109-aabb-91497a796714",
   "metadata": {},
   "outputs": [
    {
     "data": {
      "text/latex": [
       "$\\displaystyle - \\frac{19}{720}$"
      ],
      "text/plain": [
       "-19/720"
      ]
     },
     "execution_count": 8,
     "metadata": {},
     "output_type": "execute_result"
    }
   ],
   "source": [
    "-Rational(1,8)+Rational(11,72)-Rational(3,48)+Rational(1,120)"
   ]
  },
  {
   "cell_type": "code",
   "execution_count": null,
   "id": "9dc72822-4cbd-400c-90de-331e307d9146",
   "metadata": {},
   "outputs": [],
   "source": []
  }
 ],
 "metadata": {
  "kernelspec": {
   "display_name": "Python 3 (ipykernel)",
   "language": "python",
   "name": "python3"
  },
  "language_info": {
   "codemirror_mode": {
    "name": "ipython",
    "version": 3
   },
   "file_extension": ".py",
   "mimetype": "text/x-python",
   "name": "python",
   "nbconvert_exporter": "python",
   "pygments_lexer": "ipython3",
   "version": "3.9.15"
  }
 },
 "nbformat": 4,
 "nbformat_minor": 5
}
