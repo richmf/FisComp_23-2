{
 "cells": [
  {
   "cell_type": "code",
   "execution_count": 2,
   "id": "df8ac87f",
   "metadata": {},
   "outputs": [],
   "source": [
    "from pylab import *"
   ]
  },
  {
   "cell_type": "code",
   "execution_count": 51,
   "id": "06947906",
   "metadata": {},
   "outputs": [],
   "source": [
    "def deriv1(x,f):\n",
    "    h = x[1]-x[0]\n",
    "    return (f[2]-f[0])/(2*h)"
   ]
  },
  {
   "cell_type": "code",
   "execution_count": 52,
   "id": "48f4d20a",
   "metadata": {},
   "outputs": [
    {
     "name": "stdout",
     "output_type": "stream",
     "text": [
      "0.8414709848078965 0.5403023058681398 -0.8414709848078965\n"
     ]
    }
   ],
   "source": [
    "print(sin(1),cos(1),-sin(1))"
   ]
  },
  {
   "cell_type": "code",
   "execution_count": 53,
   "id": "0ddf176c",
   "metadata": {},
   "outputs": [
    {
     "data": {
      "text/plain": [
       "0.540293300874733"
      ]
     },
     "execution_count": 53,
     "metadata": {},
     "output_type": "execute_result"
    }
   ],
   "source": [
    "delta = 0.01\n",
    "punto = 1\n",
    "pts = arange(punto-delta,punto+delta,delta)\n",
    "f = sin(pts)\n",
    "deriv1(pts,f)"
   ]
  },
  {
   "cell_type": "code",
   "execution_count": 55,
   "id": "618af91e",
   "metadata": {},
   "outputs": [
    {
     "name": "stdout",
     "output_type": "stream",
     "text": [
      "[0.548680715796301, 0.540293300874733, 0.5318518570733228]\n",
      "-0.8414429361489054\n",
      "2.804865899108666e-05\n"
     ]
    }
   ],
   "source": [
    "delta = 0.01\n",
    "punto = 1\n",
    "pts = arange(punto-2*delta,punto+2*delta,delta)\n",
    "df = [deriv1(pts[0:3],sin(pts[0:3])) , deriv1(pts[1:4],sin(pts[1:4])) ,\n",
    "     deriv1(pts[2:5],sin(pts[2:5]))]\n",
    "print(df)\n",
    "ddf = deriv1( pts[1:4],df )\n",
    "print( ddf )\n",
    "print(abs(ddf+sin(1)))"
   ]
  },
  {
   "cell_type": "code",
   "execution_count": 57,
   "id": "58426019",
   "metadata": {},
   "outputs": [],
   "source": [
    "def deriv2(x,f):\n",
    "    h = x[1]-x[0]\n",
    "    return (f[2]+f[0]-2*f[1])/(h**2)  "
   ]
  },
  {
   "cell_type": "code",
   "execution_count": 59,
   "id": "decf38dd",
   "metadata": {},
   "outputs": [
    {
     "name": "stdout",
     "output_type": "stream",
     "text": [
      "-0.8414639725717861\n",
      "7.012236110437442e-06\n"
     ]
    }
   ],
   "source": [
    "delta = 0.01\n",
    "punto = 1\n",
    "pts = arange(punto-delta,punto+delta,delta)\n",
    "f = sin(pts)\n",
    "ddf_directo = deriv2(pts,f)\n",
    "print(ddf_directo)\n",
    "print(abs(ddf_directo+sin(1)))"
   ]
  },
  {
   "cell_type": "code",
   "execution_count": null,
   "id": "46738104",
   "metadata": {},
   "outputs": [],
   "source": []
  }
 ],
 "metadata": {
  "kernelspec": {
   "display_name": "Python 3 (ipykernel)",
   "language": "python",
   "name": "python3"
  },
  "language_info": {
   "codemirror_mode": {
    "name": "ipython",
    "version": 3
   },
   "file_extension": ".py",
   "mimetype": "text/x-python",
   "name": "python",
   "nbconvert_exporter": "python",
   "pygments_lexer": "ipython3",
   "version": "3.9.12"
  }
 },
 "nbformat": 4,
 "nbformat_minor": 5
}
