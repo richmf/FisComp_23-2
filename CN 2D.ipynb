{
 "cells": [
  {
   "cell_type": "code",
   "execution_count": 45,
   "id": "5c56794e",
   "metadata": {},
   "outputs": [],
   "source": [
    "from pylab import *"
   ]
  },
  {
   "cell_type": "code",
   "execution_count": 46,
   "id": "26c84b78",
   "metadata": {},
   "outputs": [],
   "source": [
    "def Mat_A_inv(Nx,Ny,r):\n",
    "    # Ojo Nx,Ny se refiere a los pintos interiores\n",
    "    N_tot = Nx*Ny\n",
    "    A = zeros( (N_tot,N_tot) )\n",
    "    dd , m_r= 1+4*r , -r\n",
    "    # Psi_ij -> i renglones o y, j columnas o x\n",
    "    for i in range(Ny-1):\n",
    "        for j in range(Nx-1):\n",
    "            A[Ny*i+j,Ny*i+j] = dd\n",
    "            A[Ny*i+j,Ny*i+j+1] = m_r\n",
    "            A[Ny*i+j+1,Ny*i+j] = m_r\n",
    "            A[Ny*i+j,Ny*(i+1)+j] = m_r\n",
    "            A[Ny*(i+1)+j,Ny*i+j] = m_r\n",
    "    for j in range(Nx-1):\n",
    "        A[Ny*(Ny-1)+j,Ny*(Ny-1)+j] = dd\n",
    "        A[Ny*(Ny-1)+j,Ny*(Ny-1)+j+1] = m_r\n",
    "        A[Ny*(Ny-1)+j+1,Ny*(Ny-1)+j] = m_r\n",
    "    for i in range(Ny-1):\n",
    "        A[Ny*i+Nx-1,Ny*i+Nx-1] = dd\n",
    "        A[Ny*i+Nx-1,Ny*(i+1)+Nx-1] = m_r\n",
    "        A[Ny*(i+1)+Nx-1,Ny*i+Nx-1] = m_r\n",
    "    A[Ny*(Ny-1)+Nx-1,Ny*(Ny-1)+Nx-1] = dd\n",
    "    A_inv = inv(A)\n",
    "    return A_inv\n",
    "\n",
    "def Mat_B(Nx,Ny,r):\n",
    "    # Ojo Nx,Ny se refiere a los pintos interiores\n",
    "    N_tot = Nx*Ny\n",
    "    A = zeros( (N_tot,N_tot) )\n",
    "    dd = 1-4*r \n",
    "    # Psi_ij -> i renglones o y, j columnas o x\n",
    "    for i in range(Ny-1):\n",
    "        for j in range(Nx-1):\n",
    "            A[Ny*i+j,Ny*i+j] = dd\n",
    "            A[Ny*i+j,Ny*i+j+1] = r\n",
    "            A[Ny*i+j+1,Ny*i+j] = r\n",
    "            A[Ny*i+j,Ny*(i+1)+j] = r\n",
    "            A[Ny*(i+1)+j,Ny*i+j] = r\n",
    "    for j in range(Nx-1):\n",
    "        A[Ny*(Ny-1)+j,Ny*(Ny-1)+j] = dd\n",
    "        A[Ny*(Ny-1)+j,Ny*(Ny-1)+j+1] = r\n",
    "        A[Ny*(Ny-1)+j+1,Ny*(Ny-1)+j] = r\n",
    "    for i in range(Ny-1):\n",
    "        A[Ny*i+Nx-1,Ny*i+Nx-1] = dd\n",
    "        A[Ny*i+Nx-1,Ny*(i+1)+Nx-1] = r\n",
    "        A[Ny*(i+1)+Nx-1,Ny*i+Nx-1] = r\n",
    "    A[Ny*(Ny-1)+Nx-1,Ny*(Ny-1)+Nx-1] = dd\n",
    "    return A"
   ]
  },
  {
   "cell_type": "code",
   "execution_count": 47,
   "id": "26f0a7f9",
   "metadata": {},
   "outputs": [],
   "source": [
    "A_inv = Mat_A_inv(3,3,1)\n",
    "B = Mat_B(3,3,1)"
   ]
  },
  {
   "cell_type": "code",
   "execution_count": 48,
   "id": "fdee5767",
   "metadata": {},
   "outputs": [],
   "source": [
    "def Psi_interior(Psi):\n",
    "    Ny,Nx = Psi.shape\n",
    "    Nx_int , Ny_int = Nx-2 , Ny-2\n",
    "    Psi_vec = Psi[1:-1,1:-1].reshape(1,Nx_int*Ny_int)\n",
    "    return Nx_int,Ny_int,Psi_vec[0]\n",
    "\n",
    "def cond_ini_1(x,y):\n",
    "    Nx_tot , Ny_tot = len(x),len(y)\n",
    "    Psi_ini = zeros( (Ny_tot,Nx_tot) )\n",
    "    for i in range(Nx_tot):\n",
    "        for j in range(Ny_tot):\n",
    "            if sqrt((x[i]-0.25)**2 + (y[j]-0.25)**2) < 0.1:\n",
    "                Psi_ini[j,i] = 1\n",
    "            if sqrt((x[i]-0.75)**2 + (y[j]-0.75)**2) < 0.15:\n",
    "                Psi_ini[j,i] = 1\n",
    "    return Psi_ini"
   ]
  },
  {
   "cell_type": "code",
   "execution_count": 49,
   "id": "d1c346dd",
   "metadata": {},
   "outputs": [],
   "source": [
    "x , y = linspace(0,1,50) , linspace(0,1,50)\n",
    "Psi_ini = cond_ini_1(x,y)"
   ]
  },
  {
   "cell_type": "code",
   "execution_count": 50,
   "id": "76b75c86",
   "metadata": {},
   "outputs": [
    {
     "data": {
      "image/png": "[encoded data removed]",
      "text/plain": [
       "<Figure size 432x288 with 2 Axes>"
      ]
     },
     "metadata": {
      "needs_background": "light"
     },
     "output_type": "display_data"
    }
   ],
   "source": [
    "fig , ejes = subplots()\n",
    "niveles = linspace(0,1,15)\n",
    "XX,YY = meshgrid(x,y)\n",
    "graf = ejes.contourf(XX,YY,Psi_ini,levels=niveles)\n",
    "fig.colorbar(graf)\n",
    "show()"
   ]
  },
  {
   "cell_type": "code",
   "execution_count": 58,
   "id": "6337335c",
   "metadata": {},
   "outputs": [],
   "source": [
    "def valor_r(x,y,t,D=1):\n",
    "    delta_t , delta_x , delta_y = t[1]-t[0] , x[1]-x[0] , y[1]-y[0]\n",
    "    if delta_x == delta_y:\n",
    "        r = 0.5*D*delta_t/(delta_x*delta_y)\n",
    "        if r > 1:\n",
    "            print('Ojo! no hay convergencia porque r>1')\n",
    "        else:\n",
    "            return r\n",
    "    else:\n",
    "        print('La malla no es uniforme \\U0001F92E')"
   ]
  },
  {
   "cell_type": "code",
   "execution_count": 61,
   "id": "1bae4d01",
   "metadata": {},
   "outputs": [
    {
     "data": {
      "text/plain": [
       "(0.6002500000000002, 100)"
      ]
     },
     "execution_count": 61,
     "metadata": {},
     "output_type": "execute_result"
    }
   ],
   "source": [
    "Nx,Ny,Psi_ini_interior = Psi_interior(Psi_ini)\n",
    "t = arange(0,0.05,0.0005)\n",
    "r = valor_r(x,y,t)\n",
    "r,len(t)"
   ]
  },
  {
   "cell_type": "code",
   "execution_count": 53,
   "id": "4f1a1607",
   "metadata": {},
   "outputs": [],
   "source": [
    "A_inv , B = Mat_A_inv(Nx,Ny,r) , Mat_B(Nx,Ny,r)\n",
    "Mat_evol = dot(A_inv,B)"
   ]
  },
  {
   "cell_type": "code",
   "execution_count": 56,
   "id": "aefe0df8",
   "metadata": {},
   "outputs": [],
   "source": [
    "Psi_final = zeros_like(Psi_ini)\n",
    "Psi_final_interior = zeros_like(Psi_ini_interior)\n",
    "Psi_final_interior = dot(Mat_evol,Psi_ini_interior)\n",
    "for i in range(len(t)-1):\n",
    "    Psi_final_interior = dot(Mat_evol,Psi_final_interior)\n",
    "Psi_final[1:-1,1:-1] = Psi_final_interior.reshape(Nx,Ny)"
   ]
  },
  {
   "cell_type": "code",
   "execution_count": 57,
   "id": "a0e3e9dc",
   "metadata": {},
   "outputs": [
    {
     "data": {
      "image/png": "[encoded data removed]",
      "text/plain": [
       "<Figure size 432x288 with 2 Axes>"
      ]
     },
     "metadata": {
      "needs_background": "light"
     },
     "output_type": "display_data"
    }
   ],
   "source": [
    "fig , ejes = subplots()\n",
    "graf = ejes.contourf(XX,YY,Psi_final,levels=niveles)\n",
    "fig.colorbar(graf)\n",
    "show()"
   ]
  },
  {
   "cell_type": "code",
   "execution_count": 62,
   "id": "e397e08d",
   "metadata": {},
   "outputs": [],
   "source": [
    "def CN_2D(Psi_ini,x,y,t,D=1):\n",
    "    # Ojo Psi_ini tiene los punto de la frontea\n",
    "    Nx,Ny,Psi_ini_interior = Psi_interior(Psi_ini)\n",
    "    r = valor_r(x,y,t)\n",
    "    A_inv , B = Mat_A_inv(Nx,Ny,r) , Mat_B(Nx,Ny,r)\n",
    "    Mat_evol = dot(A_inv,B)\n",
    "    #\n",
    "    Psi_final = zeros_like(Psi_ini)\n",
    "    Psi_final_interior = zeros_like(Psi_ini_interior)\n",
    "    Psi_final_interior = dot(Mat_evol,Psi_ini_interior)\n",
    "    for i in range(len(t)-1):\n",
    "        Psi_final_interior = dot(Mat_evol,Psi_final_interior)\n",
    "    Psi_final[1:-1,1:-1] = Psi_final_interior.reshape(Nx,Ny)\n",
    "    return Psi_final"
   ]
  },
  {
   "cell_type": "code",
   "execution_count": 82,
   "id": "629ffde0",
   "metadata": {},
   "outputs": [],
   "source": [
    "x , y , t = linspace(0,1,50) , linspace(0,1,50) , arange(0,0.05,0.0005)\n",
    "Psi1 = cond_ini_1(x,y)\n",
    "Psif1 = CN_2D(Psi1,x,y,t)"
   ]
  },
  {
   "cell_type": "code",
   "execution_count": 81,
   "id": "2efc5217",
   "metadata": {},
   "outputs": [
    {
     "name": "stderr",
     "output_type": "stream",
     "text": [
      "/tmp/ipykernel_6080/3582552525.py:6: MatplotlibDeprecationWarning: Starting from Matplotlib 3.6, colorbar() will steal space from the mappable's axes, rather than from the current axes, to place the colorbar.  To silence this warning, explicitly pass the 'ax' argument to colorbar().\n",
      "  fig.colorbar(graf_ini)\n"
     ]
    },
    {
     "data": {
      "image/png": "[encoded data removed]",
      "text/plain": [
       "<Figure size 432x288 with 3 Axes>"
      ]
     },
     "metadata": {
      "needs_background": "light"
     },
     "output_type": "display_data"
    }
   ],
   "source": [
    "fig , ejes = subplots(1,2)\n",
    "niveles = linspace(0,1,15)\n",
    "XX,YY = meshgrid(x,y)\n",
    "graf_ini = ejes[0].contourf(XX,YY,Psi1,levels=niveles)\n",
    "graf_final = ejes[1].contourf(XX,YY,Psif1,levels=niveles)\n",
    "fig.colorbar(graf_ini)\n",
    "show()"
   ]
  },
  {
   "cell_type": "code",
   "execution_count": 89,
   "id": "a792a93d",
   "metadata": {},
   "outputs": [],
   "source": [
    "def CN_2D_total(Psi_ini,x,y,t,D=1):\n",
    "    # Ojo Psi_ini tiene los punto de la frontea\n",
    "    Nx,Ny,Psi_ini_interior = Psi_interior(Psi_ini)\n",
    "    r = valor_r(x,y,t)\n",
    "    A_inv , B = Mat_A_inv(Nx,Ny,r) , Mat_B(Nx,Ny,r)\n",
    "    Mat_evol = dot(A_inv,B)\n",
    "    #\n",
    "    Nxt,Nyt = Psi_ini.shape\n",
    "    Psi_xy_t = zeros((Nxt,Nyt,len(t)))\n",
    "    Psi_xy_t[:,:,0] = Psi_ini\n",
    "    Psi_final_interior = zeros_like(Psi_ini_interior)\n",
    "    Psi_final_interior = dot(Mat_evol,Psi_ini_interior)\n",
    "    Psi_xy_t[1:-1,1:-1,1] = Psi_final_interior.reshape(Nx,Ny)\n",
    "    for i in range(len(t)-2):\n",
    "        Psi_final_interior = dot(Mat_evol,Psi_final_interior)\n",
    "        Psi_xy_t[1:-1,1:-1,i+2] = Psi_final_interior.reshape(Nx,Ny)\n",
    "    return Psi_xy_t"
   ]
  },
  {
   "cell_type": "code",
   "execution_count": 96,
   "id": "1c1f2545",
   "metadata": {},
   "outputs": [],
   "source": [
    "x , y , t = linspace(0,1,50) , linspace(0,1,50) , arange(0,0.05,0.0005)\n",
    "Psi2= cond_ini_1(x,y)\n",
    "Psif2 = CN_2D_total(Psi2,x,y,t)"
   ]
  },
  {
   "cell_type": "code",
   "execution_count": 97,
   "id": "e6f80ef1",
   "metadata": {},
   "outputs": [
    {
     "name": "stderr",
     "output_type": "stream",
     "text": [
      "/tmp/ipykernel_6080/3704529265.py:6: MatplotlibDeprecationWarning: Starting from Matplotlib 3.6, colorbar() will steal space from the mappable's axes, rather than from the current axes, to place the colorbar.  To silence this warning, explicitly pass the 'ax' argument to colorbar().\n",
      "  fig.colorbar(graf_ini)\n"
     ]
    },
    {
     "data": {
      "image/png": "[encoded data removed]",
      "text/plain": [
       "<Figure size 432x288 with 3 Axes>"
      ]
     },
     "metadata": {
      "needs_background": "light"
     },
     "output_type": "display_data"
    }
   ],
   "source": [
    "fig , ejes = subplots(1,2)\n",
    "niveles = linspace(0,1,15)\n",
    "XX,YY = meshgrid(x,y)\n",
    "graf_ini = ejes[0].contourf(XX,YY,Psif2[:,:,0],levels=niveles)\n",
    "graf_final = ejes[1].contourf(XX,YY,Psif2[:,:,2],levels=niveles)\n",
    "fig.colorbar(graf_ini)\n",
    "show()"
   ]
  },
  {
   "cell_type": "code",
   "execution_count": null,
   "id": "1fc81537",
   "metadata": {},
   "outputs": [],
   "source": []
  }
 ],
 "metadata": {
  "kernelspec": {
   "display_name": "Python 3 (ipykernel)",
   "language": "python",
   "name": "python3"
  },
  "language_info": {
   "codemirror_mode": {
    "name": "ipython",
    "version": 3
   },
   "file_extension": ".py",
   "mimetype": "text/x-python",
   "name": "python",
   "nbconvert_exporter": "python",
   "pygments_lexer": "ipython3",
   "version": "3.9.12"
  }
 },
 "nbformat": 4,
 "nbformat_minor": 5
}
