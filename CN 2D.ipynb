{
 "cells": [
  {
   "cell_type": "code",
   "execution_count": 1,
   "id": "5c56794e",
   "metadata": {},
   "outputs": [],
   "source": [
    "from pylab import *"
   ]
  },
  {
   "cell_type": "code",
   "execution_count": 64,
   "id": "26c84b78",
   "metadata": {},
   "outputs": [],
   "source": [
    "def Mat_A_inv(Nx,Ny,r):\n",
    "    # Ojo Nx,Ny se refiere a los pintos interiores\n",
    "    N_tot = Nx*Ny\n",
    "    A = zeros( (N_tot,N_tot) )\n",
    "    dd , m_r= 1+4*r , -r\n",
    "    # Psi_ij -> i renglones o y, j columnas o x\n",
    "    for i in range(Ny-1):\n",
    "        for j in range(Nx-1):\n",
    "            A[Ny*i+j,Ny*i+j] = dd\n",
    "            A[Ny*i+j,Ny*i+j+1] = m_r\n",
    "            A[Ny*i+j+1,Ny*i+j] = m_r\n",
    "            A[Ny*i+j,Ny*(i+1)+j] = m_r\n",
    "            A[Ny*(i+1)+j,Ny*i+j] = m_r\n",
    "    for j in range(Nx-1):\n",
    "        A[Ny*(Ny-1)+j,Ny*(Ny-1)+j] = dd\n",
    "        A[Ny*(Ny-1)+j,Ny*(Ny-1)+j+1] = m_r\n",
    "        A[Ny*(Ny-1)+j+1,Ny*(Ny-1)+j] = m_r\n",
    "    for i in range(Ny-1):\n",
    "        A[Ny*i+Nx-1,Ny*i+Nx-1] = dd\n",
    "        A[Ny*i+Nx-1,Ny*(i+1)+Nx-1] = m_r\n",
    "        A[Ny*(i+1)+Nx-1,Ny*i+Nx-1] = m_r\n",
    "    A[Ny*(Ny-1)+Nx-1,Ny*(Ny-1)+Nx-1] = dd\n",
    "    A_inv = inv(A)\n",
    "    return A_inv\n",
    "\n",
    "def Mat_B(Nx,Ny,r):\n",
    "    # Ojo Nx,Ny se refiere a los pintos interiores\n",
    "    N_tot = Nx*Ny\n",
    "    A = zeros( (N_tot,N_tot) )\n",
    "    dd = 1-4*r \n",
    "    # Psi_ij -> i renglones o y, j columnas o x\n",
    "    for i in range(Ny-1):\n",
    "        for j in range(Nx-1):\n",
    "            A[Ny*i+j,Ny*i+j] = dd\n",
    "            A[Ny*i+j,Ny*i+j+1] = r\n",
    "            A[Ny*i+j+1,Ny*i+j] = r\n",
    "            A[Ny*i+j,Ny*(i+1)+j] = r\n",
    "            A[Ny*(i+1)+j,Ny*i+j] = r\n",
    "    for j in range(Nx-1):\n",
    "        A[Ny*(Ny-1)+j,Ny*(Ny-1)+j] = dd\n",
    "        A[Ny*(Ny-1)+j,Ny*(Ny-1)+j+1] = r\n",
    "        A[Ny*(Ny-1)+j+1,Ny*(Ny-1)+j] = r\n",
    "    for i in range(Ny-1):\n",
    "        A[Ny*i+Nx-1,Ny*i+Nx-1] = dd\n",
    "        A[Ny*i+Nx-1,Ny*(i+1)+Nx-1] = r\n",
    "        A[Ny*(i+1)+Nx-1,Ny*i+Nx-1] = r\n",
    "    A[Ny*(Ny-1)+Nx-1,Ny*(Ny-1)+Nx-1] = dd\n",
    "    return A"
   ]
  },
  {
   "cell_type": "code",
   "execution_count": 74,
   "id": "26f0a7f9",
   "metadata": {},
   "outputs": [],
   "source": [
    "A_inv = Mat_A_inv(3,3,1)\n",
    "B = Mat_B(3,3,1)"
   ]
  },
  {
   "cell_type": "code",
   "execution_count": 86,
   "id": "275c5431",
   "metadata": {},
   "outputs": [
    {
     "data": {
      "text/plain": [
       "array([ 1,  2,  3,  4,  5,  6,  7,  8,  9, 10, 11, 12, 13, 14, 15, 16])"
      ]
     },
     "execution_count": 86,
     "metadata": {},
     "output_type": "execute_result"
    }
   ],
   "source": [
    "Psi_tilde_vec = arange(1,17,1)\n",
    "Psi_tilde_vec"
   ]
  },
  {
   "cell_type": "code",
   "execution_count": 87,
   "id": "cc634b4d",
   "metadata": {},
   "outputs": [
    {
     "data": {
      "text/plain": [
       "array([[ 1,  2,  3,  4],\n",
       "       [ 5,  6,  7,  8],\n",
       "       [ 9, 10, 11, 12],\n",
       "       [13, 14, 15, 16]])"
      ]
     },
     "execution_count": 87,
     "metadata": {},
     "output_type": "execute_result"
    }
   ],
   "source": [
    "Psi_tilde_cuad = Mat.reshape(4,4)\n",
    "Psi_tilde_cuad"
   ]
  },
  {
   "cell_type": "code",
   "execution_count": 88,
   "id": "85fafdfe",
   "metadata": {},
   "outputs": [
    {
     "data": {
      "text/plain": [
       "array([[ 1,  2,  3,  4,  5,  6,  7,  8,  9, 10, 11, 12, 13, 14, 15, 16]])"
      ]
     },
     "execution_count": 88,
     "metadata": {},
     "output_type": "execute_result"
    }
   ],
   "source": [
    "Psi_tilde_vec.reshape(1,16)"
   ]
  },
  {
   "cell_type": "code",
   "execution_count": 98,
   "id": "6dab31de",
   "metadata": {},
   "outputs": [
    {
     "data": {
      "text/plain": [
       "array([[0., 0., 0., 0., 0., 0.],\n",
       "       [0., 0., 0., 0., 0., 0.],\n",
       "       [0., 0., 0., 0., 0., 0.],\n",
       "       [0., 0., 0., 0., 0., 0.],\n",
       "       [0., 0., 0., 0., 0., 0.],\n",
       "       [0., 0., 0., 0., 0., 0.]])"
      ]
     },
     "execution_count": 98,
     "metadata": {},
     "output_type": "execute_result"
    }
   ],
   "source": [
    "Psi = zeros((6,6))\n",
    "Psi"
   ]
  },
  {
   "cell_type": "code",
   "execution_count": 99,
   "id": "a93d3086",
   "metadata": {},
   "outputs": [
    {
     "data": {
      "text/plain": [
       "array([[ 0.,  0.,  0.,  0.,  0.,  0.],\n",
       "       [ 0.,  1.,  2.,  3.,  4.,  0.],\n",
       "       [ 0.,  5.,  6.,  7.,  8.,  0.],\n",
       "       [ 0.,  9., 10., 11., 12.,  0.],\n",
       "       [ 0., 13., 14., 15., 16.,  0.],\n",
       "       [ 0.,  0.,  0.,  0.,  0.,  0.]])"
      ]
     },
     "execution_count": 99,
     "metadata": {},
     "output_type": "execute_result"
    }
   ],
   "source": [
    "Psi[1:-1,1:-1] = Psi_tilde_cuad\n",
    "Psi"
   ]
  },
  {
   "cell_type": "code",
   "execution_count": 100,
   "id": "0ca2ca9f",
   "metadata": {},
   "outputs": [
    {
     "data": {
      "text/plain": [
       "array([[ 1.,  2.,  3.,  4.,  5.,  6.,  7.,  8.,  9., 10., 11., 12., 13.,\n",
       "        14., 15., 16.]])"
      ]
     },
     "execution_count": 100,
     "metadata": {},
     "output_type": "execute_result"
    }
   ],
   "source": [
    "Psi[1:-1,1:-1].reshape(1,16)"
   ]
  },
  {
   "cell_type": "code",
   "execution_count": 134,
   "id": "fdee5767",
   "metadata": {},
   "outputs": [],
   "source": [
    "def Psi_interior(Psi):\n",
    "    Ny,Nx = Psi.shape\n",
    "    Nx_int , Ny_int = Nx-2 , Ny-2\n",
    "    Psi_vec = Psi[1:-1,1:-1].reshape(1,Nx_int*Ny_int)\n",
    "    return Nx_int,Ny_int,Psi_vec[0]"
   ]
  },
  {
   "cell_type": "code",
   "execution_count": 135,
   "id": "57edede1",
   "metadata": {},
   "outputs": [
    {
     "data": {
      "text/plain": [
       "(4,\n",
       " 4,\n",
       " array([ 1.,  2.,  3.,  4.,  5.,  6.,  7.,  8.,  9., 10., 11., 12., 13.,\n",
       "        14., 15., 16.]))"
      ]
     },
     "execution_count": 135,
     "metadata": {},
     "output_type": "execute_result"
    }
   ],
   "source": [
    "Psi_interior(Psi)"
   ]
  },
  {
   "cell_type": "code",
   "execution_count": 136,
   "id": "bc5eb045",
   "metadata": {},
   "outputs": [],
   "source": [
    "def cond_ini(x,y):\n",
    "    Nx_tot , Ny_tot = len(x),len(y)\n",
    "    Psi_ini = zeros( (Ny_tot,Nx_tot))\n",
    "    for i in range(Nx_tot):\n",
    "        for j in range(Ny_tot):\n",
    "            if sqrt((x[i]-0.25)**2 + (y[j]-0.25)**2) < 0.1:\n",
    "                Psi_ini[j,i] = 1\n",
    "            if sqrt((x[i]-0.75)**2 + (y[j]-0.75)**2) < 0.15:\n",
    "                Psi_ini[j,i] = 1\n",
    "    return Psi_ini"
   ]
  },
  {
   "cell_type": "code",
   "execution_count": 137,
   "id": "d1c346dd",
   "metadata": {},
   "outputs": [],
   "source": [
    "x , y = linspace(0,1,100) , linspace(0,1,100)\n",
    "Psi_ini = cond_ini(x,y)"
   ]
  },
  {
   "cell_type": "code",
   "execution_count": 138,
   "id": "76b75c86",
   "metadata": {},
   "outputs": [
    {
     "data": {
      "image/png": "[encoded data removed]",
      "text/plain": [
       "<Figure size 432x288 with 1 Axes>"
      ]
     },
     "metadata": {
      "needs_background": "light"
     },
     "output_type": "display_data"
    }
   ],
   "source": [
    "XX,YY = meshgrid(x,y)\n",
    "contourf(XX,YY,Psi_ini)\n",
    "gca().set_aspect('equal')\n",
    "show()"
   ]
  },
  {
   "cell_type": "code",
   "execution_count": 143,
   "id": "1bae4d01",
   "metadata": {},
   "outputs": [],
   "source": [
    "Nx,Ny,Psi_ini_interior = Psi_interior(Psi_ini)"
   ]
  },
  {
   "cell_type": "code",
   "execution_count": 144,
   "id": "1e9bec2a",
   "metadata": {},
   "outputs": [
    {
     "data": {
      "image/png": "[encoded data removed]",
      "text/plain": [
       "<Figure size 432x288 with 1 Axes>"
      ]
     },
     "metadata": {
      "needs_background": "light"
     },
     "output_type": "display_data"
    }
   ],
   "source": [
    "plot(Psi_ini_interior,'.')\n",
    "show()"
   ]
  },
  {
   "cell_type": "code",
   "execution_count": null,
   "id": "edf7e1c2",
   "metadata": {},
   "outputs": [],
   "source": []
  }
 ],
 "metadata": {
  "kernelspec": {
   "display_name": "Python 3 (ipykernel)",
   "language": "python",
   "name": "python3"
  },
  "language_info": {
   "codemirror_mode": {
    "name": "ipython",
    "version": 3
   },
   "file_extension": ".py",
   "mimetype": "text/x-python",
   "name": "python",
   "nbconvert_exporter": "python",
   "pygments_lexer": "ipython3",
   "version": "3.9.12"
  }
 },
 "nbformat": 4,
 "nbformat_minor": 5
}
