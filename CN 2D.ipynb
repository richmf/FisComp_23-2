{
 "cells": [
  {
   "cell_type": "code",
   "execution_count": 1,
   "id": "5f42c04a",
   "metadata": {},
   "outputs": [],
   "source": [
    "from pylab import *"
   ]
  },
  {
   "cell_type": "code",
   "execution_count": 29,
   "id": "5982a923",
   "metadata": {},
   "outputs": [],
   "source": [
    "def Mat_A_inv(Nx,Ny,r):\n",
    "    # Ojo Nx,Ny se refiere a los pintos interiores\n",
    "    N_tot = Nx*Ny\n",
    "    A = zeros( (N_tot,N_tot) )\n",
    "    dd , m_r= 1+4*r , -r\n",
    "    # Psi_ij -> i renglones o y, j columnas o x\n",
    "    for i in range(Ny-1):\n",
    "        for j in range(Nx-1):\n",
    "            A[Ny*i+j,Ny*i+j] = 1 #dd\n",
    "            A[Ny*i+j,Ny*i+j+1] = 2 #m_r\n",
    "            A[Ny*i+j+1,Ny*i+j] = 3 #m_r\n",
    "            A[Ny*i+j,Ny*(i+1)+j] = 4 #m_r\n",
    "            A[Ny*(i+1)+j,Ny*i+j] = 5 #m_r\n",
    "    for j in range(Nx):\n",
    "        A[Ny*(Ny-1)+j,Ny*(Ny-1)+j] = 6 #dd\n",
    "    for i in range(Ny-1):\n",
    "        A[Ny*i+Nx-1,Ny*i+Nx-1] = 7 #m_r\n",
    "    for i in range(Ny-1):\n",
    "        A[Ny*i+Nx-1,Ny*(i+1)+Nx-1] = 8 #m_r\n",
    "        A[Ny*(i+1)+Nx-1,Ny*i+Nx-1] = 9 #m_r\n",
    "    for j in range(Nx-1):\n",
    "        A[Ny*i+j,Ny*i+j+1] = 2 #m_r\n",
    "        \n",
    "    return A"
   ]
  },
  {
   "cell_type": "code",
   "execution_count": 30,
   "id": "21fe2b56",
   "metadata": {},
   "outputs": [
    {
     "data": {
      "text/plain": [
       "array([[1., 2., 0., 0., 4., 0., 0., 0., 0., 0., 0., 0., 0., 0., 0., 0.],\n",
       "       [3., 1., 2., 0., 0., 4., 0., 0., 0., 0., 0., 0., 0., 0., 0., 0.],\n",
       "       [0., 3., 1., 2., 0., 0., 4., 0., 0., 0., 0., 0., 0., 0., 0., 0.],\n",
       "       [0., 0., 3., 7., 0., 0., 0., 8., 0., 0., 0., 0., 0., 0., 0., 0.],\n",
       "       [5., 0., 0., 0., 1., 2., 0., 0., 4., 0., 0., 0., 0., 0., 0., 0.],\n",
       "       [0., 5., 0., 0., 3., 1., 2., 0., 0., 4., 0., 0., 0., 0., 0., 0.],\n",
       "       [0., 0., 5., 0., 0., 3., 1., 2., 0., 0., 4., 0., 0., 0., 0., 0.],\n",
       "       [0., 0., 0., 9., 0., 0., 3., 7., 0., 0., 0., 8., 0., 0., 0., 0.],\n",
       "       [0., 0., 0., 0., 5., 0., 0., 0., 1., 2., 0., 0., 4., 0., 0., 0.],\n",
       "       [0., 0., 0., 0., 0., 5., 0., 0., 3., 1., 2., 0., 0., 4., 0., 0.],\n",
       "       [0., 0., 0., 0., 0., 0., 5., 0., 0., 3., 1., 2., 0., 0., 4., 0.],\n",
       "       [0., 0., 0., 0., 0., 0., 0., 9., 0., 0., 3., 7., 0., 0., 0., 8.],\n",
       "       [0., 0., 0., 0., 0., 0., 0., 0., 5., 0., 0., 0., 6., 0., 0., 0.],\n",
       "       [0., 0., 0., 0., 0., 0., 0., 0., 0., 5., 0., 0., 0., 6., 0., 0.],\n",
       "       [0., 0., 0., 0., 0., 0., 0., 0., 0., 0., 5., 0., 0., 0., 6., 0.],\n",
       "       [0., 0., 0., 0., 0., 0., 0., 0., 0., 0., 0., 9., 0., 0., 0., 6.]])"
      ]
     },
     "execution_count": 30,
     "metadata": {},
     "output_type": "execute_result"
    }
   ],
   "source": [
    "Mat_A_inv(4,4,1)"
   ]
  },
  {
   "cell_type": "code",
   "execution_count": null,
   "id": "974ef97d",
   "metadata": {},
   "outputs": [],
   "source": []
  }
 ],
 "metadata": {
  "kernelspec": {
   "display_name": "Python 3 (ipykernel)",
   "language": "python",
   "name": "python3"
  },
  "language_info": {
   "codemirror_mode": {
    "name": "ipython",
    "version": 3
   },
   "file_extension": ".py",
   "mimetype": "text/x-python",
   "name": "python",
   "nbconvert_exporter": "python",
   "pygments_lexer": "ipython3",
   "version": "3.9.12"
  }
 },
 "nbformat": 4,
 "nbformat_minor": 5
}
