{
 "cells": [
  {
   "cell_type": "code",
   "execution_count": 2,
   "id": "d99729ad",
   "metadata": {},
   "outputs": [],
   "source": [
    "from pylab import *"
   ]
  },
  {
   "cell_type": "code",
   "execution_count": 3,
   "id": "fea87ed1",
   "metadata": {},
   "outputs": [],
   "source": [
    "def Mat_A(x):\n",
    "    N = len(x)\n",
    "    N_interior = N-2\n",
    "    A = zeros( (N_interior,N_interior) )\n",
    "    for i in range(N_interior-1):\n",
    "        A[i,i] = -2\n",
    "        A[i,i+1] = 1\n",
    "        A[i+1,i] = 1\n",
    "    A[-1,-1] = -2\n",
    "    return A"
   ]
  },
  {
   "cell_type": "code",
   "execution_count": 4,
   "id": "0a9ca9cb",
   "metadata": {},
   "outputs": [
    {
     "data": {
      "text/plain": [
       "3.141592653589793"
      ]
     },
     "execution_count": 4,
     "metadata": {},
     "output_type": "execute_result"
    }
   ],
   "source": [
    "pi"
   ]
  },
  {
   "cell_type": "code",
   "execution_count": 6,
   "id": "f7d381db",
   "metadata": {},
   "outputs": [],
   "source": [
    "x = linspace(0,1,1002)\n",
    "h = x[1]-x[0]\n",
    "A = Mat_A(x)\n",
    "e_val , e_vec = eig(A)\n",
    "# ordenar eigenvalores y eigenvectores\n",
    "indices = e_val.argsort()[::-1] #primero es de menor a mayor\n",
    "e_val = e_val[indices]\n",
    "e_vec = e_vec[:,indices]\n",
    "k_s = sqrt(-e_val)/h"
   ]
  },
  {
   "cell_type": "code",
   "execution_count": 83,
   "id": "c8b2f474",
   "metadata": {},
   "outputs": [
    {
     "name": "stdout",
     "output_type": "stream",
     "text": [
      "[3.14146601 6.28217218]\n"
     ]
    },
    {
     "data": {
      "image/png": "[encoded data removed]",
      "text/plain": [
       "<Figure size 432x288 with 1 Axes>"
      ]
     },
     "metadata": {
      "needs_background": "light"
     },
     "output_type": "display_data"
    }
   ],
   "source": [
    "print(k_s[0:2])\n",
    "plot(x,sin(pi*x),label='Sol. Analítica n=1')\n",
    "plot(x,sin(2*pi*x),label='Sol. Analítica n=2')\n",
    "norm1 = abs(e_vec[:,0]).max()\n",
    "plot(x[1:-1],-e_vec[:,0]/norm1,'--',label='Sol. Numérica n=1')\n",
    "norm1 = abs(e_vec[:,1]).max()\n",
    "plot(x[1:-1],-e_vec[:,1]/norm1,'--',label='Sol. Numérica n=2')\n",
    "legend()\n",
    "show()"
   ]
  },
  {
   "cell_type": "markdown",
   "id": "ea53f270",
   "metadata": {},
   "source": [
    "Para una matriz de $100 \\times 100$"
   ]
  },
  {
   "cell_type": "code",
   "execution_count": 84,
   "id": "802dd483",
   "metadata": {},
   "outputs": [
    {
     "name": "stdout",
     "output_type": "stream",
     "text": [
      "3.82 ms ± 431 µs per loop (mean ± std. dev. of 7 runs, 100 loops each)\n"
     ]
    }
   ],
   "source": [
    "%%timeit\n",
    "e_val , e_vec = eig(A)"
   ]
  },
  {
   "cell_type": "code",
   "execution_count": 7,
   "id": "ed5ed4dd",
   "metadata": {},
   "outputs": [],
   "source": [
    "def Mat_A_2D(x,y):\n",
    "    Nx , Ny = len(x)-2 , len(y)-2\n",
    "    N_tot = Nx*Ny\n",
    "    A = zeros( (N_tot,N_tot) )\n",
    "    dd = -4\n",
    "    for i in range(Ny-1):\n",
    "        for j in range(Nx-1):\n",
    "            A[Ny*i+j,Ny*i+j] = dd\n",
    "            A[Ny*i+j,Ny*i+j+1] = 1\n",
    "            A[Ny*i+j+1,Ny*i+j] = 1\n",
    "            A[Ny*i+j,Ny*(i+1)+j] = 1\n",
    "            A[Ny*(i+1)+j,Ny*i+j] = 1\n",
    "    A[-1,-1] = -2\n",
    "    for j in range(Nx-1):\n",
    "        A[Ny*(Ny-1)+j,Ny*(Ny-1)+j] = dd\n",
    "        A[Ny*(Ny-1)+j,Ny*(Ny-1)+j+1] = 1\n",
    "        A[Ny*(Ny-1)+j+1,Ny*(Ny-1)+j] = 1\n",
    "    for i in range(Ny-1):\n",
    "        A[Ny*i+Nx-1,Ny*i+Nx-1] = dd\n",
    "        A[Ny*i+Nx-1,Ny*(i+1)+Nx-1] = 1\n",
    "        A[Ny*(i+1)+Nx-1,Ny*i+Nx-1] = 1\n",
    "    A[Ny*(Ny-1)+Nx-1,Ny*(Ny-1)+Nx-1] = dd\n",
    "    return A"
   ]
  },
  {
   "cell_type": "code",
   "execution_count": 17,
   "id": "28e38009",
   "metadata": {},
   "outputs": [
    {
     "name": "stdout",
     "output_type": "stream",
     "text": [
      "[28.19708028 28.06686608 28.06686608 27.93604493 27.852091   27.852091\n",
      " 27.72025628 27.72025628 27.55614391 27.55614391 27.50277458 27.42288647\n",
      " 27.42288647 27.20302747 27.20302747 27.18380077 27.18380077 27.04870902\n",
      " 27.04870902 26.89994048 26.82578351 26.82578351 26.74125499 26.74125499\n",
      " 26.60391613 26.60391613 26.51838523 26.51838523 26.37723176 26.37723176\n",
      " 26.23615384 26.23615384 26.1312593  26.09615687 26.09615687 26.06454391\n",
      " 26.06454391 25.86502281 25.86502281 25.67763749 25.67763749 25.67057472\n",
      " 25.67057472 25.54606621 25.54606621 25.53457856 25.53457856 25.29831425\n",
      " 25.29831425 25.20147021 25.14397455 25.14397455 25.07637456 25.07637456\n",
      " 24.97212041 24.97212041 24.92986555 24.92986555 24.68781476 24.68781476\n",
      " 24.66485659 24.66485659 24.56063426 24.56063426 24.44458362 24.44458362\n",
      " 24.35344517 24.35344517 24.29426482 24.29426482 24.11630569 24.06990755\n",
      " 24.06990755 24.04581678 24.04581678 23.9313236  23.9313236  23.79602436\n",
      " 23.79602436 23.70239226 23.70239226 23.64158223 23.64158223 23.50747751\n",
      " 23.50747751 23.42741863 23.42741863 23.38620131 23.38620131 23.2684627\n",
      " 23.2684627  23.14593418 23.14593418 23.03294393 23.03294393 22.98712475\n",
      " 22.98712475 22.88245611 22.84917926 22.84917926 22.74988023 22.74988023\n",
      " 22.72439011 22.72439011 22.58615645 22.58615645 22.51087666 22.51087666\n",
      " 22.36067977 22.36067977 22.34755475 22.34755475 22.20563649 22.20563649\n",
      " 22.15396353 22.15396353 22.07721008 22.07721008 22.05153413 22.05153413\n",
      " 21.90845996 21.90845996 21.90018167 21.90018167 21.74061298 21.74061298\n",
      " 21.70265649 21.70265649 21.50752859 21.48961142 21.48961142 21.46262459\n",
      " 21.46262459 21.43621251 21.43621251 21.35687973 21.35687973 21.34838756\n",
      " 21.34838756 21.22788864 21.22788864 21.18466301 21.18466301 21.07715228\n",
      " 21.07715228 20.89928105 20.89928105 20.87424895 20.87424895 20.76744792\n",
      " 20.76744792 20.74889168 20.74889168 20.71218726 20.71218726 20.69801692\n",
      " 20.69801692 20.6581449  20.6581449  20.58796507 20.58796507 20.5032203\n",
      " 20.5032203  20.47770405 20.47770405 20.4058302  20.4058302  20.29802942\n",
      " 20.29802942 20.18232803 20.18232803 20.         20.         20.\n",
      " 20.         20.         20.         20.         20.         20.\n",
      " 20.         20.         20.         20.         20.         20.\n",
      " 20.         20.         20.         20.         19.81599443 19.81599443\n",
      " 19.69746181 19.69746181 19.58576253 19.58576253 19.51060319 19.51060319\n",
      " 19.48378704 19.48378704 19.39421806 19.39421806 19.31944744 19.31944744\n",
      " 19.27672419 19.27672419 19.26149784 19.26149784 19.22195344 19.22195344\n",
      " 19.20190373 19.20190373 19.0857468  19.0857468  19.05833286 19.05833286\n",
      " 18.86143291 18.86143291 18.74059906 18.74059906 18.69162229 18.69162229\n",
      " 18.55387691 18.55387691 18.54410117 18.54410117 18.45233842 18.45233842\n",
      " 18.42161083 18.42161083 18.39012238 18.39012238 18.36916476 18.13821108\n",
      " 18.13821108 18.09269873 18.09269873 17.89921905 17.89921905 17.88908556\n",
      " 17.88908556 17.71242057 17.71242057 17.6804071  17.6804071  17.58413774\n",
      " 17.58413774 17.51883866 17.51883866 17.33743916 17.33743916 17.32050808\n",
      " 17.32050808 17.12484837 17.12484837 17.02543793 17.02543793 16.84048972\n",
      " 16.84048972 16.80603908 16.80603908 16.67078304 16.67078304 16.62507751\n",
      " 16.48005144 16.48005144 16.41595243 16.41595243 16.25625205 16.25625205\n",
      " 16.08038071 16.08038071 15.90866393 15.90866393 15.84790385 15.84790385\n",
      " 15.72890655 15.72890655 15.52660909 15.52660909 15.43361918 15.43361918\n",
      " 15.2888595  15.2888595  15.07619815 15.07619815 14.89290755 14.89290755\n",
      " 14.85394058 14.85394058 14.77849113 14.48408426 14.48408426 14.38435637\n",
      " 14.38435637 14.22892589 14.22892589 14.02765999 14.02765999 13.84358514\n",
      " 13.84358514 13.80260128 13.80260128 13.36045672 13.36045672 13.28131026\n",
      " 13.28131026 13.08340318 13.08340318 12.95301292 12.95301292 12.84079044\n",
      " 12.64892471 12.64892471 12.16492079 12.16492079 12.14077844 12.14077844\n",
      " 11.87525129 11.87525129 11.85997188 11.85997188 11.44554914 11.44554914\n",
      " 10.98360372 10.98360372 10.90828111 10.90828111 10.823922   10.56712979\n",
      " 10.56712979 10.20987976 10.20987976  9.83744097  9.83744097  9.60373085\n",
      "  9.60373085  9.21440619  9.21440619  8.96534098  8.96534098  8.74032049\n",
      "  8.26845454  8.26845454  7.81287243  7.81287243  7.74566306  7.74566306\n",
      "  6.92714211  6.92714211  6.60283199  6.37643576  6.37643576  5.62026618\n",
      "  5.62026618  4.9255484   4.9255484   4.42463484  3.50014694  3.50014694\n",
      "  2.21915835]\n"
     ]
    }
   ],
   "source": [
    "x = arange(0,1.05,0.05)\n",
    "y = arange(0,1.05,0.05)\n",
    "A2D = Mat_A_2D(x,y)\n",
    "e_val,e_vec = eig(A2D)\n",
    "print(sqrt(-sort(e_val.real))/0.1 )"
   ]
  },
  {
   "cell_type": "code",
   "execution_count": 19,
   "id": "0deda2ba",
   "metadata": {},
   "outputs": [
    {
     "data": {
      "text/plain": [
       "2.221441469079183"
      ]
     },
     "execution_count": 19,
     "metadata": {},
     "output_type": "execute_result"
    }
   ],
   "source": [
    "sqrt(2)*pi/2"
   ]
  },
  {
   "cell_type": "code",
   "execution_count": 7,
   "id": "61257b44",
   "metadata": {},
   "outputs": [],
   "source": [
    "from scipy.sparse import *\n",
    "from scipy.sparse.linalg import eigs"
   ]
  },
  {
   "cell_type": "code",
   "execution_count": 8,
   "id": "f9656391",
   "metadata": {},
   "outputs": [],
   "source": [
    "def Mat_A_sp(x):\n",
    "    N = len(x)\n",
    "    N_interior = N-2\n",
    "    A = lil_matrix( (N_interior,N_interior) )\n",
    "    for i in range(N_interior-1):\n",
    "        A[i,i] = -2\n",
    "        A[i,i+1] = 1\n",
    "        A[i+1,i] = 1\n",
    "    A[-1,-1] = -2\n",
    "    return A"
   ]
  },
  {
   "cell_type": "code",
   "execution_count": 10,
   "id": "693055e8",
   "metadata": {},
   "outputs": [],
   "source": [
    "x = linspace(0,1,1002)\n",
    "h = x[1]-x[0]\n",
    "A_sp = Mat_A_sp(x)\n",
    "e_val , e_vec = eigs(A_sp,k=10,which='SM')"
   ]
  },
  {
   "cell_type": "code",
   "execution_count": null,
   "id": "9bc309e1",
   "metadata": {},
   "outputs": [],
   "source": [
    "sort(sqrt(-e_val.real)/h)"
   ]
  },
  {
   "cell_type": "code",
   "execution_count": 87,
   "id": "510ed979",
   "metadata": {},
   "outputs": [
    {
     "name": "stdout",
     "output_type": "stream",
     "text": [
      "14.7 ms ± 37 µs per loop (mean ± std. dev. of 7 runs, 100 loops each)\n"
     ]
    }
   ],
   "source": [
    "%%timeit\n",
    "e_val , e_vec = eigs(A_sp,which='SM')"
   ]
  },
  {
   "cell_type": "code",
   "execution_count": null,
   "id": "7c4ecba2",
   "metadata": {},
   "outputs": [],
   "source": []
  }
 ],
 "metadata": {
  "kernelspec": {
   "display_name": "Python 3 (ipykernel)",
   "language": "python",
   "name": "python3"
  },
  "language_info": {
   "codemirror_mode": {
    "name": "ipython",
    "version": 3
   },
   "file_extension": ".py",
   "mimetype": "text/x-python",
   "name": "python",
   "nbconvert_exporter": "python",
   "pygments_lexer": "ipython3",
   "version": "3.9.12"
  }
 },
 "nbformat": 4,
 "nbformat_minor": 5
}
