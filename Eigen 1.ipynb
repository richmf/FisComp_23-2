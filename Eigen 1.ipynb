{
 "cells": [
  {
   "cell_type": "code",
   "execution_count": 1,
   "id": "d99729ad",
   "metadata": {},
   "outputs": [],
   "source": [
    "from pylab import *"
   ]
  },
  {
   "cell_type": "code",
   "execution_count": 5,
   "id": "fea87ed1",
   "metadata": {},
   "outputs": [],
   "source": [
    "def Mat_A(x):\n",
    "    N = len(x)\n",
    "    N_interior = N-2\n",
    "    A = zeros( (N_interior,N_interior) )\n",
    "    for i in range(N_interior-1):\n",
    "        A[i,i] = -2\n",
    "        A[i,i+1] = 1\n",
    "        A[i+1,i] = 1\n",
    "    A[-1,-1] = -2\n",
    "    return A"
   ]
  },
  {
   "cell_type": "code",
   "execution_count": 19,
   "id": "0a9ca9cb",
   "metadata": {},
   "outputs": [
    {
     "data": {
      "text/plain": [
       "3.141592653589793"
      ]
     },
     "execution_count": 19,
     "metadata": {},
     "output_type": "execute_result"
    }
   ],
   "source": [
    "pi"
   ]
  },
  {
   "cell_type": "code",
   "execution_count": 20,
   "id": "f7d381db",
   "metadata": {},
   "outputs": [
    {
     "data": {
      "text/plain": [
       "array([ 3.1256672 ,  6.15636258,  9.        , 11.57017697, 13.78879998,\n",
       "       15.58845727, 16.91446717, 17.72653955])"
      ]
     },
     "execution_count": 20,
     "metadata": {},
     "output_type": "execute_result"
    }
   ],
   "source": [
    "x = linspace(0,1,10)\n",
    "h = x[1]-x[0]\n",
    "A = Mat_A(x)\n",
    "valor_propios = eig(A)\n",
    "k_s = sqrt(-valor_propios[0])/h\n",
    "sort(k_s)"
   ]
  },
  {
   "cell_type": "code",
   "execution_count": null,
   "id": "2946a0bc",
   "metadata": {},
   "outputs": [],
   "source": []
  }
 ],
 "metadata": {
  "kernelspec": {
   "display_name": "Python 3 (ipykernel)",
   "language": "python",
   "name": "python3"
  },
  "language_info": {
   "codemirror_mode": {
    "name": "ipython",
    "version": 3
   },
   "file_extension": ".py",
   "mimetype": "text/x-python",
   "name": "python",
   "nbconvert_exporter": "python",
   "pygments_lexer": "ipython3",
   "version": "3.9.12"
  }
 },
 "nbformat": 4,
 "nbformat_minor": 5
}
