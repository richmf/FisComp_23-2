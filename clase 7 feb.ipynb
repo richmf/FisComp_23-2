{
 "cells": [
  {
   "cell_type": "code",
   "execution_count": 30,
   "id": "8e779295",
   "metadata": {},
   "outputs": [],
   "source": [
    "import math as mt\n",
    "import numpy as np\n",
    "import matplotlib.pyplot as plt"
   ]
  },
  {
   "cell_type": "code",
   "execution_count": 46,
   "id": "a3395d49",
   "metadata": {},
   "outputs": [],
   "source": [
    "x = np.linspace(0,np.pi,30)"
   ]
  },
  {
   "cell_type": "code",
   "execution_count": 47,
   "id": "b3fdd1fb",
   "metadata": {},
   "outputs": [
    {
     "data": {
      "image/png": "[encoded data removed]",
      "text/plain": [
       "<Figure size 432x288 with 1 Axes>"
      ]
     },
     "metadata": {
      "needs_background": "light"
     },
     "output_type": "display_data"
    }
   ],
   "source": [
    "plt.plot(x,np.cos(x),'.')\n",
    "plt.show()"
   ]
  },
  {
   "cell_type": "markdown",
   "id": "a479d63c",
   "metadata": {},
   "source": [
    "$$\n",
    "\\cos (x) = \\sum _{n=0} ^{\\infty} -1^{n}\\frac{x^{2n}}{(2n)!} = 1 - \\frac{x^2}{2} + \\frac{x^4}{24} + ...\n",
    "$$"
   ]
  },
  {
   "cell_type": "markdown",
   "id": "8aacc1c7",
   "metadata": {},
   "source": [
    "$$\n",
    "\\cos (x) = \\sum _{n=0} ^{\\infty} -1^{n}\\frac{x^{2n}}{(2n)!} = 1 - \\frac{x^2}{2} + \\frac{x^4}{24} + ...\n",
    "$$"
   ]
  },
  {
   "cell_type": "code",
   "execution_count": 69,
   "id": "833b7566",
   "metadata": {},
   "outputs": [],
   "source": [
    "def cos(x):\n",
    "    y = 0\n",
    "    for n in range(10):\n",
    "        y += ((-1)**n)*((x**(2*n))/mt.factorial(2*n))\n",
    "    return y"
   ]
  },
  {
   "cell_type": "code",
   "execution_count": 70,
   "id": "cc25a63b",
   "metadata": {},
   "outputs": [
    {
     "name": "stdout",
     "output_type": "stream",
     "text": [
      "0.7071067811865475\n"
     ]
    }
   ],
   "source": [
    "numero = cos(np.pi/4)\n",
    "print(numero)"
   ]
  },
  {
   "cell_type": "code",
   "execution_count": 71,
   "id": "ea6a7c92",
   "metadata": {},
   "outputs": [
    {
     "data": {
      "text/plain": [
       "0.7071067811865475"
      ]
     },
     "execution_count": 71,
     "metadata": {},
     "output_type": "execute_result"
    }
   ],
   "source": [
    "1/mt.sqrt(2)"
   ]
  },
  {
   "cell_type": "code",
   "execution_count": 53,
   "id": "c857f4d0",
   "metadata": {},
   "outputs": [
    {
     "name": "stdout",
     "output_type": "stream",
     "text": [
      "0\n",
      "1\n",
      "2\n",
      "3\n",
      "4\n",
      "5\n",
      "6\n",
      "7\n",
      "8\n",
      "9\n",
      "-> 9\n"
     ]
    }
   ],
   "source": [
    "for i in range(10):\n",
    "    print(i)\n",
    "print('->',i)º"
   ]
  },
  {
   "cell_type": "code",
   "execution_count": null,
   "id": "4de1452f",
   "metadata": {},
   "outputs": [],
   "source": []
  },
  {
   "cell_type": "code",
   "execution_count": null,
   "id": "ed597789",
   "metadata": {},
   "outputs": [],
   "source": []
  },
  {
   "cell_type": "code",
   "execution_count": null,
   "id": "3cc0bef8",
   "metadata": {},
   "outputs": [],
   "source": []
  },
  {
   "cell_type": "code",
   "execution_count": null,
   "id": "9096708f",
   "metadata": {},
   "outputs": [],
   "source": []
  },
  {
   "cell_type": "code",
   "execution_count": null,
   "id": "8e9e2d31",
   "metadata": {},
   "outputs": [],
   "source": []
  }
 ],
 "metadata": {
  "kernelspec": {
   "display_name": "Python 3 (ipykernel)",
   "language": "python",
   "name": "python3"
  },
  "language_info": {
   "codemirror_mode": {
    "name": "ipython",
    "version": 3
   },
   "file_extension": ".py",
   "mimetype": "text/x-python",
   "name": "python",
   "nbconvert_exporter": "python",
   "pygments_lexer": "ipython3",
   "version": "3.9.15"
  }
 },
 "nbformat": 4,
 "nbformat_minor": 5
}
