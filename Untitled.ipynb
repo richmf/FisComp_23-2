{
 "cells": [
  {
   "cell_type": "code",
   "execution_count": 1,
   "id": "df75d0fa",
   "metadata": {},
   "outputs": [],
   "source": [
    "from pylab import *"
   ]
  },
  {
   "cell_type": "code",
   "execution_count": 2,
   "id": "63900c7c",
   "metadata": {},
   "outputs": [],
   "source": [
    "def RK4(EDO,ci,titf,*args,delta=0.1):\n",
    "    t = arange(titf[0],titf[1]+delta,delta)\n",
    "    sol = zeros( (len(ci),len(t)) )\n",
    "    sol[:,0] = array(ci)\n",
    "    for n in range(len(t)-1):\n",
    "        tm = t[n] + 0.5*delta\n",
    "        k1 = EDO(t[n],sol[:,n],*args)\n",
    "        k2 = EDO(tm,sol[:,n] + 0.5*delta*k1,*args) \n",
    "        k3 = EDO(tm,sol[:,n] + 0.5*delta*k2,*args)\n",
    "        k4 = EDO(t[n+1],sol[:,n] + delta*k3,*args)\n",
    "        sol[:,n+1] = sol[:,n] + (k1 + 2*(k2+k3) + k4)*(delta/6)\n",
    "    return sol,t"
   ]
  },
  {
   "cell_type": "markdown",
   "id": "8c56bef6",
   "metadata": {},
   "source": [
    "<img src='./ecs_mini.png' width=300px>"
   ]
  },
  {
   "cell_type": "code",
   "execution_count": null,
   "id": "3d2b7855",
   "metadata": {},
   "outputs": [],
   "source": [
    "def sist_sol(t,x_v,ms):\n",
    "    # x_v = xt,yt,vxt,vyt,xp,yp,vxp,vyp\n",
    "    #       0, 1,  2,  3, 4, 5,  6, 7\n",
    "    "
   ]
  }
 ],
 "metadata": {
  "kernelspec": {
   "display_name": "Python 3 (ipykernel)",
   "language": "python",
   "name": "python3"
  },
  "language_info": {
   "codemirror_mode": {
    "name": "ipython",
    "version": 3
   },
   "file_extension": ".py",
   "mimetype": "text/x-python",
   "name": "python",
   "nbconvert_exporter": "python",
   "pygments_lexer": "ipython3",
   "version": "3.9.12"
  }
 },
 "nbformat": 4,
 "nbformat_minor": 5
}
