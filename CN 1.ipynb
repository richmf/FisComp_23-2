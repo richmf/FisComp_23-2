{
 "cells": [
  {
   "cell_type": "code",
   "execution_count": 2,
   "id": "82e7b8a4",
   "metadata": {},
   "outputs": [],
   "source": [
    "from pylab import *"
   ]
  },
  {
   "cell_type": "code",
   "execution_count": 10,
   "id": "a7d3f39b",
   "metadata": {},
   "outputs": [],
   "source": [
    "def Mat_A_inv(Nx,r):\n",
    "    A = zeros((Nx,Nx))\n",
    "    dd , m_r = 2*(1+r) , -r\n",
    "    for i in range(Nx-1):\n",
    "        A[i,i] = dd\n",
    "        A[i+1,i] = m_r\n",
    "        A[i,i+1] = m_r\n",
    "    A[-1,-1] = dd\n",
    "    A_inv = inv(A)\n",
    "    return A,A_inv"
   ]
  },
  {
   "cell_type": "code",
   "execution_count": 18,
   "id": "2366368c",
   "metadata": {},
   "outputs": [
    {
     "data": {
      "text/plain": [
       "(array([[ 6., -2.,  0.,  0.],\n",
       "        [-2.,  6., -2.,  0.],\n",
       "        [ 0., -2.,  6., -2.],\n",
       "        [ 0.,  0., -2.,  6.]]),\n",
       " array([[0.19090909, 0.07272727, 0.02727273, 0.00909091],\n",
       "        [0.07272727, 0.21818182, 0.08181818, 0.02727273],\n",
       "        [0.02727273, 0.08181818, 0.21818182, 0.07272727],\n",
       "        [0.00909091, 0.02727273, 0.07272727, 0.19090909]]))"
      ]
     },
     "execution_count": 18,
     "metadata": {},
     "output_type": "execute_result"
    }
   ],
   "source": [
    "A,A_inv = Mat_A_inv(4,2)\n",
    "A,A_inv"
   ]
  },
  {
   "cell_type": "code",
   "execution_count": 22,
   "id": "43e7e012",
   "metadata": {},
   "outputs": [
    {
     "name": "stdout",
     "output_type": "stream",
     "text": [
      "[[ 1.00000000e+00  0.00000000e+00  0.00000000e+00  0.00000000e+00]\n",
      " [ 0.00000000e+00  1.00000000e+00  0.00000000e+00  0.00000000e+00]\n",
      " [-2.77555756e-17  0.00000000e+00  1.00000000e+00 -5.55111512e-17]\n",
      " [-6.93889390e-18  0.00000000e+00 -5.55111512e-17  1.00000000e+00]]\n"
     ]
    }
   ],
   "source": [
    "print(dot(A,A_inv) )"
   ]
  },
  {
   "cell_type": "code",
   "execution_count": null,
   "id": "fcb45264",
   "metadata": {},
   "outputs": [],
   "source": []
  }
 ],
 "metadata": {
  "kernelspec": {
   "display_name": "Python 3 (ipykernel)",
   "language": "python",
   "name": "python3"
  },
  "language_info": {
   "codemirror_mode": {
    "name": "ipython",
    "version": 3
   },
   "file_extension": ".py",
   "mimetype": "text/x-python",
   "name": "python",
   "nbconvert_exporter": "python",
   "pygments_lexer": "ipython3",
   "version": "3.9.12"
  }
 },
 "nbformat": 4,
 "nbformat_minor": 5
}
