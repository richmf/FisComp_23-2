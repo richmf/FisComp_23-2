{
 "cells": [
  {
   "cell_type": "code",
   "execution_count": 1,
   "id": "f56e2471",
   "metadata": {},
   "outputs": [],
   "source": [
    "from pylab import *"
   ]
  },
  {
   "cell_type": "code",
   "execution_count": 31,
   "id": "b3480dff",
   "metadata": {},
   "outputs": [],
   "source": [
    "def raiz_bip(f , intervalo , error=1e-6):\n",
    "    x_izq , x_der = intervalo[0] , intervalo[1]\n",
    "    contador = 0\n",
    "    f_i , f_r = f(x_izq) , f(x_der )\n",
    "    if f_i*f_r <= 0:\n",
    "        f_r = 2*error\n",
    "        while abs(f_r) > error and abs(x_izq-x_der) > error:\n",
    "            x_raiz = 0.5*( x_izq + x_der )\n",
    "            contador += 1\n",
    "            f_i , f_r = f(x_izq) , f(x_raiz)\n",
    "            if f_i*f_r < 0 :\n",
    "                x_der = x_raiz\n",
    "            else:\n",
    "                x_izq = x_raiz\n",
    "    else:\n",
    "        print('No hay raiz en ese intervalo')\n",
    "        x_raiz = nan\n",
    "    return x_raiz , contador"
   ]
  },
  {
   "cell_type": "code",
   "execution_count": 61,
   "id": "c667fdab",
   "metadata": {},
   "outputs": [
    {
     "data": {
      "text/plain": [
       "(3.141592025756836, 20)"
      ]
     },
     "execution_count": 61,
     "metadata": {},
     "output_type": "execute_result"
    }
   ],
   "source": [
    "intervalo = [2,4]\n",
    "raiz_bip(sin,intervalo)"
   ]
  },
  {
   "cell_type": "code",
   "execution_count": 56,
   "id": "88ec095c",
   "metadata": {},
   "outputs": [],
   "source": [
    "def raiz_Newton( f , x0 , error=1e-6):\n",
    "    f0 , dif ,h = 2*error , 2*error ,  1e-2\n",
    "    contador = 0 \n",
    "    while abs(f0) > error and dif > error:\n",
    "        x0_old = x0\n",
    "        f0 = f(x0)\n",
    "        df0 = (f(x0+h)-f(x0-h))/(2*h) \n",
    "        x0 = x0 - f0/df0\n",
    "        dif = abs(x0 - x0_old)\n",
    "        contador += 1\n",
    "    return x0 , contador"
   ]
  },
  {
   "cell_type": "code",
   "execution_count": 62,
   "id": "e1666e5c",
   "metadata": {},
   "outputs": [
    {
     "data": {
      "text/plain": [
       "(3.1415926535896106, 6)"
      ]
     },
     "execution_count": 62,
     "metadata": {},
     "output_type": "execute_result"
    }
   ],
   "source": [
    "raiz_Newton(sin,2)"
   ]
  },
  {
   "cell_type": "code",
   "execution_count": 63,
   "id": "60f449df",
   "metadata": {},
   "outputs": [
    {
     "name": "stdout",
     "output_type": "stream",
     "text": [
      "30.8 µs ± 1.11 µs per loop (mean ± std. dev. of 7 runs, 10,000 loops each)\n"
     ]
    }
   ],
   "source": [
    "%%timeit\n",
    "raiz_bip(sin,intervalo)"
   ]
  },
  {
   "cell_type": "code",
   "execution_count": 64,
   "id": "4db30516",
   "metadata": {},
   "outputs": [
    {
     "name": "stdout",
     "output_type": "stream",
     "text": [
      "17.9 µs ± 340 ns per loop (mean ± std. dev. of 7 runs, 100,000 loops each)\n"
     ]
    }
   ],
   "source": [
    "%%timeit\n",
    "raiz_Newton(sin,2)"
   ]
  },
  {
   "cell_type": "code",
   "execution_count": null,
   "id": "adb59e52",
   "metadata": {},
   "outputs": [],
   "source": []
  },
  {
   "cell_type": "code",
   "execution_count": null,
   "id": "fe39f611",
   "metadata": {},
   "outputs": [],
   "source": []
  },
  {
   "cell_type": "code",
   "execution_count": null,
   "id": "ccdd194f",
   "metadata": {},
   "outputs": [],
   "source": []
  }
 ],
 "metadata": {
  "kernelspec": {
   "display_name": "Python 3 (ipykernel)",
   "language": "python",
   "name": "python3"
  },
  "language_info": {
   "codemirror_mode": {
    "name": "ipython",
    "version": 3
   },
   "file_extension": ".py",
   "mimetype": "text/x-python",
   "name": "python",
   "nbconvert_exporter": "python",
   "pygments_lexer": "ipython3",
   "version": "3.9.12"
  }
 },
 "nbformat": 4,
 "nbformat_minor": 5
}
