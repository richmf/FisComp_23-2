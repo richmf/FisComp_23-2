{
 "cells": [
  {
   "cell_type": "code",
   "execution_count": 1,
   "id": "4a997737-c484-4311-841b-ed76396db1ec",
   "metadata": {},
   "outputs": [],
   "source": [
    "from pylab import *"
   ]
  },
  {
   "cell_type": "code",
   "execution_count": 41,
   "id": "64b86d13-0fbd-40b0-b737-e9095f7459c8",
   "metadata": {},
   "outputs": [],
   "source": [
    "def bipart(func,xi,xd,err=1e-5):\n",
    "    xm = 0.5*(xi+xd)\n",
    "    fi , fm , fd = func(xi) , func(xm) , func(xd)\n",
    "    dif_raiz , cont = err + 1 , 0\n",
    "    while abs(fm) > err and dif_raiz > err:\n",
    "        xref = xm\n",
    "        if fi*fm > 0:\n",
    "            xi , fi = xm , fm\n",
    "        else:\n",
    "            xd , fd = xm , fm\n",
    "        xm = 0.5*(xi+xd)\n",
    "        fm = func(xm)\n",
    "        dif_raiz = abs(xref - xm)\n",
    "        cont += 1\n",
    "    print(\"Número de iteraciones: \",cont)\n",
    "    return xm"
   ]
  },
  {
   "cell_type": "code",
   "execution_count": 48,
   "id": "7ee0b14e-0dfd-4f08-b809-4596b80d8536",
   "metadata": {},
   "outputs": [
    {
     "name": "stdout",
     "output_type": "stream",
     "text": [
      "Número de iteraciones:  33\n"
     ]
    },
    {
     "data": {
      "text/plain": [
       "3.1415926535555627"
      ]
     },
     "execution_count": 48,
     "metadata": {},
     "output_type": "execute_result"
    }
   ],
   "source": [
    "bipart(sin,0.1,6,1e-10)"
   ]
  },
  {
   "cell_type": "code",
   "execution_count": 45,
   "id": "8652a91c-7477-4eb1-8182-d3b1c25efc2d",
   "metadata": {},
   "outputs": [],
   "source": [
    "def raiz_newton(func,d_func,x0,err = 1e-5):\n",
    "    fi , dfi = func(x0), d_func(x0)\n",
    "    dif_raiz , cont = err + 1 , 0\n",
    "    while abs(fi) > err and dif_raiz > err:\n",
    "        xref = x0\n",
    "        x0 = x0 - (fi/dfi)\n",
    "        fi , dfi = func(x0), d_func(x0)\n",
    "        dif_raiz = abs(xref - x0)\n",
    "        cont += 1\n",
    "    print(\"Número de iteraciones: \",cont)\n",
    "    return x0"
   ]
  },
  {
   "cell_type": "code",
   "execution_count": 49,
   "id": "d22c7e64-f33e-4483-b0ab-f915e7b5197b",
   "metadata": {},
   "outputs": [
    {
     "name": "stdout",
     "output_type": "stream",
     "text": [
      "Número de iteraciones:  3\n"
     ]
    },
    {
     "data": {
      "text/plain": [
       "-12.566370614359174"
      ]
     },
     "execution_count": 49,
     "metadata": {},
     "output_type": "execute_result"
    }
   ],
   "source": [
    "raiz_newton(sin,cos,1.5,1e-10)"
   ]
  },
  {
   "cell_type": "code",
   "execution_count": null,
   "id": "33fcea3f-d539-4656-a1cb-a78b3474c840",
   "metadata": {},
   "outputs": [],
   "source": []
  },
  {
   "cell_type": "code",
   "execution_count": null,
   "id": "1ad4a4b0-acbc-4ddc-b7ac-05262f1ed4d8",
   "metadata": {},
   "outputs": [],
   "source": []
  },
  {
   "cell_type": "code",
   "execution_count": null,
   "id": "774e6056-21cd-46db-ad00-533105d03469",
   "metadata": {},
   "outputs": [],
   "source": []
  },
  {
   "cell_type": "code",
   "execution_count": null,
   "id": "22b82250-b0e7-4237-9725-b7fb94e27a78",
   "metadata": {},
   "outputs": [],
   "source": []
  }
 ],
 "metadata": {
  "kernelspec": {
   "display_name": "Python 3 (ipykernel)",
   "language": "python",
   "name": "python3"
  },
  "language_info": {
   "codemirror_mode": {
    "name": "ipython",
    "version": 3
   },
   "file_extension": ".py",
   "mimetype": "text/x-python",
   "name": "python",
   "nbconvert_exporter": "python",
   "pygments_lexer": "ipython3",
   "version": "3.9.12"
  }
 },
 "nbformat": 4,
 "nbformat_minor": 5
}
